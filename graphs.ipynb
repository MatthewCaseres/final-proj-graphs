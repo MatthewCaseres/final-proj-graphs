{
 "cells": [
  {
   "cell_type": "code",
   "execution_count": 1,
   "metadata": {},
   "outputs": [
    {
     "ename": "FileNotFoundError",
     "evalue": "[Errno 2] No such file or directory: 'analysis_convTiny4Lewis_next_flowers_tripletloss_tripletdata_epadam_lr25_m0_0001_bs0_9_w8_h224_seed224.json'",
     "output_type": "error",
     "traceback": [
      "\u001b[0;31m---------------------------------------------------------------------------\u001b[0m",
      "\u001b[0;31mFileNotFoundError\u001b[0m                         Traceback (most recent call last)",
      "\u001b[1;32m/Users/matthewcaseres/Documents/Python/final-proj-graphs/graphs.ipynb Cell 1'\u001b[0m in \u001b[0;36m<cell line: 3>\u001b[0;34m()\u001b[0m\n\u001b[1;32m      <a href='vscode-notebook-cell:/Users/matthewcaseres/Documents/Python/final-proj-graphs/graphs.ipynb#ch0000000?line=0'>1</a>\u001b[0m \u001b[39mimport\u001b[39;00m \u001b[39mjson\u001b[39;00m\n\u001b[0;32m----> <a href='vscode-notebook-cell:/Users/matthewcaseres/Documents/Python/final-proj-graphs/graphs.ipynb#ch0000000?line=2'>3</a>\u001b[0m \u001b[39mwith\u001b[39;00m \u001b[39mopen\u001b[39;49m(\u001b[39m\"\u001b[39;49m\u001b[39manalysis_convTiny4Lewis_next_flowers_tripletloss_tripletdata_epadam_lr25_m0_0001_bs0_9_w8_h224_seed224.json\u001b[39;49m\u001b[39m\"\u001b[39;49m, \u001b[39m\"\u001b[39;49m\u001b[39mr\u001b[39;49m\u001b[39m\"\u001b[39;49m) \u001b[39mas\u001b[39;00m f:\n\u001b[1;32m      <a href='vscode-notebook-cell:/Users/matthewcaseres/Documents/Python/final-proj-graphs/graphs.ipynb#ch0000000?line=3'>4</a>\u001b[0m     data \u001b[39m=\u001b[39m json\u001b[39m.\u001b[39mload(f)\n\u001b[1;32m      <a href='vscode-notebook-cell:/Users/matthewcaseres/Documents/Python/final-proj-graphs/graphs.ipynb#ch0000000?line=5'>6</a>\u001b[0m \u001b[39mprint\u001b[39m(data)\n",
      "\u001b[0;31mFileNotFoundError\u001b[0m: [Errno 2] No such file or directory: 'analysis_convTiny4Lewis_next_flowers_tripletloss_tripletdata_epadam_lr25_m0_0001_bs0_9_w8_h224_seed224.json'"
     ]
    }
   ],
   "source": [
    "import json\n",
    "\n",
    "with open(\"analysis_convTiny4Lewis_next_flowers_tripletloss_tripletdata_epadam_lr25_m0_0001_bs0_9_w8_h224_seed224.json\", \"r\") as f:\n",
    "    data = json.load(f)\n",
    "\n",
    "print(data)"
   ]
  },
  {
   "cell_type": "markdown",
   "metadata": {},
   "source": []
  }
 ],
 "metadata": {
  "interpreter": {
   "hash": "58d8cb95318072c9a7b9eb8cbe4e5724c0bc1f2d0d09125cc61219f3f03af780"
  },
  "kernelspec": {
   "display_name": "Python 3.8.11 ('final-proj-graphs-l03ooyI6-py3.8')",
   "language": "python",
   "name": "python3"
  },
  "language_info": {
   "codemirror_mode": {
    "name": "ipython",
    "version": 3
   },
   "file_extension": ".py",
   "mimetype": "text/x-python",
   "name": "python",
   "nbconvert_exporter": "python",
   "pygments_lexer": "ipython3",
   "version": "3.8.11"
  },
  "orig_nbformat": 4
 },
 "nbformat": 4,
 "nbformat_minor": 2
}
