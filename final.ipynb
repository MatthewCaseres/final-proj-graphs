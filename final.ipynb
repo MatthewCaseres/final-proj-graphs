{
 "cells": [
  {
   "cell_type": "code",
   "execution_count": null,
   "metadata": {},
   "outputs": [],
   "source": [
    "\"base_convnext_flowers_tripletloss_tripletdata_adam_ep20_lr0_0001_m0_9_bs16_w224_h224_trFalse_seed111111_ds1000.json\"\n",
    "\"base_convnext_flowers_tripletloss_tripletdata_adam_ep20_lr0_0001_m0_9_bs16_w224_h224_trTrue_seed111111_ds1000.json\"\n",
    "\"nopre_resnet_flowers_tripletloss_tripletdata_adam_ep20_lr0_0001_m0_9_bs16_w224_h224_trFalse_seed111111_ds1000.json\"\n",
    "\"nopre_vit_flowers_tripletloss_tripletdata_adamadam_ep20_lr0_0001_m0_9_bs8_w224_h224_trFalse_seed111111_ds1000.json\"\n",
    "\"pre_resnet_flowers_tripletloss_tripletdata_adam_ep20_lr0_0001_m0_9_bs16_w224_h224_trTrue_seed111111_ds1000.json\"\n",
    "\"pre_vit_flowers_tripletloss_tripletdata_adamadam_ep20_lr0_0001_m0_9_bs8_w224_h224_trTrue_seed111111_ds1000.json\"\n",
    "\"small_convnext_flowers_tripletloss_tripletdata_adam_ep20_lr0_0001_m0_9_bs16_w224_h224_trFalse_seed111111_ds1000.json\"\n",
    "\"small_convnext_flowers_tripletloss_tripletdata_adam_ep20_lr0_0001_m0_9_bs16_w224_h224_trTrue_seed111111_ds1000.json\"\n",
    "\"tiny_convnext_flowers_tripletloss_tripletdata_adam_ep20_lr0_0001_m0_9_bs16_w224_h224_trFalse_seed111111_ds1000.json\"\n",
    "\"tiny_convnext_flowers_tripletloss_tripletdata_adam_ep20_lr0_0001_m0_9_bs16_w224_h224_trTrue_seed111111_ds1000.json\""
   ]
  }
 ],
 "metadata": {
  "language_info": {
   "name": "python"
  },
  "orig_nbformat": 4
 },
 "nbformat": 4,
 "nbformat_minor": 2
}
